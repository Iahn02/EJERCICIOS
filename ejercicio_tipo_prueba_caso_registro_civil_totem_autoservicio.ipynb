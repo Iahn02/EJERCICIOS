{
  "nbformat": 4,
  "nbformat_minor": 0,
  "metadata": {
    "colab": {
      "provenance": [],
      "authorship_tag": "ABX9TyPRYWj5nvde5KiSXjCpVI3s",
      "include_colab_link": true
    },
    "kernelspec": {
      "name": "python3",
      "display_name": "Python 3"
    },
    "language_info": {
      "name": "python"
    }
  },
  "cells": [
    {
      "cell_type": "markdown",
      "metadata": {
        "id": "view-in-github",
        "colab_type": "text"
      },
      "source": [
        "<a href=\"https://colab.research.google.com/github/Iahn02/EJERCICIOS/blob/main/ejercicio_tipo_prueba_caso_registro_civil_totem_autoservicio.ipynb\" target=\"_parent\"><img src=\"https://colab.research.google.com/assets/colab-badge.svg\" alt=\"Open In Colab\"/></a>"
      ]
    },
    {
      "cell_type": "code",
      "execution_count": null,
      "metadata": {
        "id": "6lgRCQnudoul"
      },
      "outputs": [],
      "source": [
        "#EJERCICIO TIPO PRUEBA \" Caso Registro Civil Totem Autoservicio\"\n",
        "\n",
        "\n",
        "\n",
        "'''def registra(nom, tel):\n",
        "  return(no,tel)\n",
        "i = 0\n",
        "lista=[]\n",
        "while i==0:\n",
        "    print(\"***Menu Principal***\")\n",
        "    i= i+1\n",
        "'''\n",
        "\n",
        "x = 0\n",
        "\n",
        "print(\"\\tServicio de Registro Civil\\n\\t\\tBienvenido\\n\")\n",
        "while x == 0:\n",
        "  x = input(\"Seleccione la operación que desea realizar\\n1. Grabar\\n2. Buscar\\n3. Imprimir Certificados\\n4. Eliminar\\n5. Salir\\n\"\n",
        ")\n"
      ]
    },
    {
      "cell_type": "code",
      "source": [
        "def varios_valores(*args):\n",
        "  for arg in args:\n",
        "    print(arg)\n",
        "\n",
        "varios_valores(4.5,\"Buen día\",[1,2,3,4])"
      ],
      "metadata": {
        "colab": {
          "base_uri": "https://localhost:8080/"
        },
        "id": "lgYygkltnu0s",
        "outputId": "115a59ba-3d27-4af6-a002-d76d45bd7e7a"
      },
      "execution_count": null,
      "outputs": [
        {
          "output_type": "stream",
          "name": "stdout",
          "text": [
            "4.5\n",
            "Buen día\n",
            "[1, 2, 3, 4]\n"
          ]
        }
      ]
    }
  ]
}